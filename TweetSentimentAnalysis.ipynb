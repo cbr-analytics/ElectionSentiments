{
 "cells": [
  {
   "cell_type": "code",
   "execution_count": 1,
   "metadata": {},
   "outputs": [],
   "source": [
    "# Twitter API"
   ]
  },
  {
   "cell_type": "code",
   "execution_count": 1,
   "metadata": {},
   "outputs": [],
   "source": [
    "from textblob import TextBlob\n",
    "import tweepy "
   ]
  },
  {
   "cell_type": "code",
   "execution_count": 9,
   "metadata": {},
   "outputs": [],
   "source": [
    "consumer_key = '3lAJG6WCmNPe2dekDobjD4L4Q'\n",
    "consumer_secret = 'y4kCKsihp0JONnSvR4mADW9Hw245jycOcDTNgeRxTMx95H5K6I'\n",
    "\n",
    "access_token = '1119071314898235392-scP3xM7t9T2QOD3TQAtPD1EKYY8yuw'\n",
    "access_token_secret = 'pIHIutmZRqYsF0Fj8AyfLGJV3nuvSyJDPCpTxS7MJYqYc'"
   ]
  },
  {
   "cell_type": "code",
   "execution_count": 18,
   "metadata": {},
   "outputs": [],
   "source": [
    "auth = tweepy.OAuthHandler(consumer_key, consumer_secret)\n",
    "#auth.set_acess_token(access_token, access_token_secret)"
   ]
  },
  {
   "cell_type": "code",
   "execution_count": 37,
   "metadata": {},
   "outputs": [],
   "source": [
    "#api = tweepy.API(auth)\n",
    "api = tweepy.API(auth, wait_on_rate_limit=True)"
   ]
  },
  {
   "cell_type": "code",
   "execution_count": 58,
   "metadata": {},
   "outputs": [],
   "source": [
    "public_tweets = api.search('Modi')"
   ]
  },
  {
   "cell_type": "code",
   "execution_count": 59,
   "metadata": {},
   "outputs": [
    {
     "name": "stdout",
     "output_type": "stream",
     "text": [
      "@khachedu123 @informtosksir @vijaybahadurs1 @0119Arjun @chuphojapagle @pallavipatil999 @sambit_swaraj1… https://t.co/oJ09VSyXz9\n",
      "Sentiment(polarity=0.0, subjectivity=0.0)\n",
      "RT @ZeeNewsHindi: पीएम मोदी ने कहा- PM की कुर्सी रहे या ना रहे, या तो मैं जिंदा रहूंगा या आतंकवादी जिंदा बचेंगे\n",
      "#AbkiBaarKiskiSarkar \n",
      "https…\n",
      "Sentiment(polarity=0.0, subjectivity=0.0)\n",
      "RT @iKamranShahid: Yesterday Modi Asked vote \n",
      "\n",
      "in the name of bomb blasts in Sri Lanka\n",
      "\n",
      "Said Pakistan released WC A Vrarthaman because of h…\n",
      "Sentiment(polarity=0.0, subjectivity=0.0)\n",
      "RT @AmitShahOffice: We had Narendra Modiji’s naam (name) in 2014. Now we have Modiji’s naam aur kaam (name and work).\n",
      "\n",
      "https://t.co/ZVz04sT…\n",
      "Sentiment(polarity=0.0, subjectivity=0.0)\n",
      "RT @smitaprakash: Pehli baat toh hum 'issue' kehte hain 'dispute' nahi. Ministry of External Affairs drills it into every beat reporter tha…\n",
      "Sentiment(polarity=0.0, subjectivity=0.1)\n",
      "@PoojaB1972 @_YogendraYadav What's wrong in what Modi said? Counter on facts and not because  you think you are ent… https://t.co/StXlPNiLTt\n",
      "Sentiment(polarity=-0.5, subjectivity=0.9)\n",
      "RT @ANI: #WATCH PM Modi in Barmer, Rajasthan: In 1971 due to bravery of our soldiers a big part of Pak came in our possession, 90,000 Pakis…\n",
      "Sentiment(polarity=-0.0625, subjectivity=0.2375)\n",
      "RT @anjanaomkashyap: Outrageous ! Verified handles tweeting such offensive stuff. @Twitter and political discourse has been reduced to gutt…\n",
      "Sentiment(polarity=-0.3333333333333333, subjectivity=0.5333333333333333)\n",
      "@OfficeOfNG @nitin_gadkari Nice BJP Modi ji Pradhanmantri Sada aap rahiye Lata kinnar Dua Hai Hamari Dua aapke sath\n",
      "Sentiment(polarity=0.6, subjectivity=1.0)\n",
      "RT @TimesNow: India has stopped the policy of getting scared of Pakistan's threats. Every other day they used to say \"We've nuclear button,…\n",
      "Sentiment(polarity=-0.125, subjectivity=0.375)\n"
     ]
    }
   ],
   "source": [
    "for tweet in public_tweets:\n",
    "    print(tweet.text)\n",
    "    analysis = TextBlob(tweet.text)\n",
    "    print(analysis.sentiment)"
   ]
  },
  {
   "cell_type": "code",
   "execution_count": 95,
   "metadata": {},
   "outputs": [],
   "source": [
    "public_tweets = api.search('Rahul')"
   ]
  },
  {
   "cell_type": "code",
   "execution_count": 96,
   "metadata": {},
   "outputs": [
    {
     "name": "stdout",
     "output_type": "stream",
     "text": [
      "यानी कि अगले चुनाव तक राहुल गांधी के नेतृत्व में 'पड़ोसी' देश भारत में शामिल हो जायेगा। राहुल गांधी के 'भारत जोड़ो'… https://t.co/wLO7FZQrqy\n",
      "Sentiment(polarity=0.0, subjectivity=0.0)\n",
      "RT @RahulGandhi: हिंदुस्तान अखबार के प्रधान संपादक शशि शेखर जी के साथ विभिन्न मुद्दों जैसे रोजगार, न्याय, GST, राष्ट्रीय सुरक्षा और अर्थव्य…\n",
      "Sentiment(polarity=0.0, subjectivity=0.0)\n",
      "RT @BJP4India: Pathological liar Rahul Gandhi has been caught lying again to the Election Commission. False declarations and concealed info…\n",
      "Sentiment(polarity=-0.4000000000000001, subjectivity=0.6)\n",
      "RT @BJP4India: Pathological liar Rahul Gandhi has been caught lying again to the Election Commission. False declarations and concealed info…\n",
      "Sentiment(polarity=-0.4000000000000001, subjectivity=0.6)\n",
      "RT @Swamy39: Exposed: Why Rahul Gandhi used Raul Vinci name in Cambridge Certificate? Have two Indian passports with British &amp; Italian citi…\n",
      "Sentiment(polarity=0.0, subjectivity=0.0)\n",
      "RT @OpIndia_com: Cambridge University confirms that Rahul Gandhi did his M.Phil using the name Raul Vinci\n",
      "\n",
      "https://t.co/UBINHoto0F\n",
      "Sentiment(polarity=0.0, subjectivity=0.0)\n",
      "This Man Is Hero For Liberals, Pidi Journalists, Failed Bollywood Actress.\n",
      "\n",
      "All These People Want Rahul Gandhi To B… https://t.co/7pPTk3NC4z\n",
      "Sentiment(polarity=-0.5, subjectivity=0.3)\n",
      "@lionsdenkxip @henrygayle Chris Gayle\n",
      "Kl Rahul\n",
      "Sarfaraz\n",
      "Pooran\n",
      "Moises\n",
      "Mandeep\n",
      "Ashwin\n",
      "Mujeeb\n",
      "Shami\n",
      "Ankit\n",
      "Murugun\n",
      "Sentiment(polarity=0.0, subjectivity=0.0)\n",
      "RT @Swamy39: Exposed: Why Rahul Gandhi used Raul Vinci name in Cambridge Certificate? Have two Indian passports with British &amp; Italian citi…\n",
      "Sentiment(polarity=0.0, subjectivity=0.0)\n",
      "RT @Swamy39: Exposed: Why Rahul Gandhi used Raul Vinci name in Cambridge Certificate? Have two Indian passports with British &amp; Italian citi…\n",
      "Sentiment(polarity=0.0, subjectivity=0.0)\n",
      "RT @Swamy39: Exposed: Why Rahul Gandhi used Raul Vinci name in Cambridge Certificate? Have two Indian passports with British &amp; Italian citi…\n",
      "Sentiment(polarity=0.0, subjectivity=0.0)\n"
     ]
    }
   ],
   "source": [
    "for tweet in public_tweets:\n",
    "    print(tweet.text)\n",
    "    analysis = TextBlob(tweet.text)\n",
    "    print(analysis.sentiment)"
   ]
  },
  {
   "cell_type": "code",
   "execution_count": null,
   "metadata": {},
   "outputs": [],
   "source": []
  }
 ],
 "metadata": {
  "kernelspec": {
   "display_name": "Python 3",
   "language": "python",
   "name": "python3"
  },
  "language_info": {
   "codemirror_mode": {
    "name": "ipython",
    "version": 3
   },
   "file_extension": ".py",
   "mimetype": "text/x-python",
   "name": "python",
   "nbconvert_exporter": "python",
   "pygments_lexer": "ipython3",
   "version": "3.5.6"
  }
 },
 "nbformat": 4,
 "nbformat_minor": 2
}
